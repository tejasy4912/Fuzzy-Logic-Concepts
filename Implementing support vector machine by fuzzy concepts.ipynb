{
 "cells": [
  {
   "cell_type": "markdown",
   "id": "V6pqn8LFUowC",
   "metadata": {
    "id": "V6pqn8LFUowC"
   },
   "source": [
    "# Implementing support vector machine by fuzzy concepts\n",
    "## Name: Tejas Yogesh Pawar\n",
    "\n",
    "#### ======================================================================================================"
   ]
  },
  {
   "cell_type": "markdown",
   "id": "jss3W-XXAb73",
   "metadata": {
    "id": "jss3W-XXAb73"
   },
   "source": [
    "**AIM :** Implement SVM by Fuzzy concepts."
   ]
  },
  {
   "cell_type": "markdown",
   "id": "1bogWCSIAtZg",
   "metadata": {
    "id": "1bogWCSIAtZg"
   },
   "source": [
    "**PACKAGES :** SKlearn , SKlearn.model_Selection, Sklearn.metrics"
   ]
  },
  {
   "cell_type": "markdown",
   "id": "GmmlXs-ZBQIw",
   "metadata": {
    "id": "GmmlXs-ZBQIw"
   },
   "source": [
    "**DESCRIPTION :**\n",
    "\n",
    "Support Vector Machine(SVM) is a supervised machine learning algorithm used for both classification and regression. Though we say regression problems as well its best suited for classification. The objective of SVM algorithm is to find a hyperplane in an N-dimensional space that distinctly classifies the data points. The dimension of the hyperplane depends upon the number of features. If the number of input features is two, then the hyperplane is just a line. If the number of input features is three, then the hyperplane becomes a 2-D plane. It becomes difficult to imagine when the number of features exceeds three. "
   ]
  },
  {
   "cell_type": "markdown",
   "id": "csR_RK9XB6TB",
   "metadata": {
    "id": "csR_RK9XB6TB"
   },
   "source": [
    "**FLOWCHART :**\n",
    "\n",
    "![AI 5.1.png](data:image/png;base64,iVBORw0KGgoAAAANSUhEUgAAAi4AAAJHCAYAAAC3sd1NAAAAAXNSR0IArs4c6QAAAARnQU1BAACxjwv8YQUAAAAJcEhZcwAAEnQAABJ0Ad5mH3gAADOUSURBVHhe7d0PsFXVnSf6hfxV5IKkQQgRtUmIf4KSjHFMtHRSZsygRq2WMqVxypBEO8aqJr6kNeWTsWwtK9rJU3vKmDaJJP2Mlg6mdCIyscM4OhptYxGU9h9pnohB/k0QLhD5K+/8FntfD8i9/L/cdfx8qnadvdbeZ59zvEfO9/zWPmv32tyQAAAKcEB1CwDQ4wkuAEAxBBcAoBiCCwBQDMEFACiG4AIAFENwAQCKIbgAAMUwAR10s+VrN6XFazZWLfalEQP7pKEDeletD461/+N/5NsB/+k/5VtoJYILdLMILgvaN1Qt9qXRbX0/cMFl+cUXp3X/63/l9f6nnJKG3nNPSn365Da0AkNFAC1i3cyZHaElrHvqqbT2N7+pWtAaBBeAFrF506ZqrclGw5K0FsEFoEUM+I//MfX79/++aqXU95OfTP0///mqBa3BOS7QzZzj0n0+iOe4hHd++ct8e+Bf/VW+hVYiuEA3E1y6zwc1uEArM1QEABRDcAEAiiG4AADFEFwAgGIILgBAMQQXAKAYggsAUAzBBQAohuACABRDcAEAiiG4AADFEFwAgGIILgBAMQQXKMDcObPT1yacvNXy1GPTq62dm37/P6VFb86vWl1bv25tuueOH2y1f3c87s7Y28cDyiW4QCGGHToy3XjXL9JPZzydbx+5d2oOFp2Jbf97xn+vWju2ft269M6a1WnQ4EOqni329ePuyN4+HlA2wQUKNPKwI9KnTzs9zXn+mVwp+fEt13dURGJ9+bIladrdP0zLlixKt0/5TnrxuafTd78yscuqyVtvvJ6GDhueDm4bXPW839563Agjdd9NV16WVrevzP2xvXnf6G8+nqoLILhAoQ4dNboRFJbm9Uuvui5XRK6+5Y407+U5ad3ad9LEr34zV0sm3/D9dNyJJ6fv/Wxa3ufMCy5Or8x+PgePZksXLczH3JE9fdwII0/MeDi3o/+aW+/KYSlCyZPTH8pVndvvfzQ92dgnwlTz8SI4AR9sggsUasnCBblC0q//gI5Kxc1XXVFt3VpzdeTRB+6pet8T2+f/4dU05uhjq57O7enj9uvfP5024dzcjv6oyERoWbViRZo39+V07WVfTpO/dGaa9+pLOUwBNBNcoEBRtXjtxd+ncSd8Jg+7RHUiqhRR+dieX907NYeNuvKxrc7Ob9nW3nrcsePG5747H5qZxhwzLs175aU0aMiQNGbsMR3n08RyyhlnVfcA2EJwgULEeR5RjYgqRVQkTp1wbg4AHz78yLw9+qb9ZEuAiOpFBIEQ54bEPnWF4835/5aWLVqYw0qtq/Nb9sXjPjj1ztx3+Xmn577xJ52Sh4FOPeu8jseKSk1UbJqP5xwXoNfmhmod6AbL125KC9o3VC32pdFtfdPQAb2rFtAKVFwAgGIILgBAMQQXAKAYggsAUAzBBQAohuACABRDcAEAiiG4AADFEFwAgGIILgBAMQQXAKAYggsAUAzBBQAohuACABRDcAEAiiG4AADFEFwAgGL02txQrQPdYPnaTWnxmo1Vi31pxMA+aeiA3lULaAWCCwBQDENFAEAxBBdgh2bNmpUXgP1NcAEAiiG4AADFEFwAgGIILgBAMQQXAKAYggsAUAzBBQAohuACABRDcAEAiiG4AADFEFwAgGIILgBAMQQXAKAYggsAUAzBBQAoRq/NDdU6wFYeeOCBfLtw4cJ8O2rUqHx7wQUX5FuA7qbiAnRp2rRp6ZlnnslLrAPsT4IL0KkvfvGL6cADD6xaKa9HH8D+IrgAnYqgctZZZ1WtlNebgwxAdxNcgC7VVRfVFqAnEFyALtVVF9UWoCfwqyLoZsvXbkqL12ysWmVYt/adfNt/QFnBZcTAPmnogN5VC2gFggt0swguC9o3VC32pdFtfQUXaDGGigCAYgguAEAxBBcAoBiCCwBQDMEFACiG4AIAFENwAQCKIbgAAMUQXACAYgguAEAxBBcAoBiCCwBQDMEFWsjcObPT1yacnJcf33J9Wr9ubXrqsenppisvS6vbV1Z7pfTg1Dvz9pdmPZf3bd4e26Ivbps1H7te4tg7Mv3+f0qL3pxftQD2jOACLSJCyhMzHk6Trrwm3X7/o2nZooVp/txX05ijj03tby9Ps599Ku8XAeW1F3+fjh5/Qurbt1/ui+2rVr7dsa0zww4dmW686xfppzOezreP3Ds1B5rOxLb/PeO/Vy2APSe4QIt5ZfbzqV///umaW+9KY8eNTx8aPiKNOWZc7o9wUweY8Sedkm/HHHVs3j7vlZdyeBnYNjid9Lkz8raujDzsiPTp005Pc55/Jh83Kjh1JSbWly9bkqbd/cO0bMmidPuU76QXn3s6ffcrE3epWgOwLcEFWkS//gPShd/4Vq60XH7e6TkkxBBN9J824dw07+U56a035ucA8/HjPpkObgSU2ocPPzL3vzzrd+mggQenAxvLzjh01OhGQFma1y+96rpcibn6ljvyY61b+06a+NVv5irN5Bu+n4478eT0vZ9Ny/ucecHFHUEKYFcILtBCIoxEpSWGitoOGZp++5sZuT+CSbSf+ufpOVSMO+Ezub/2sWOOS8sW/jH9y/98LA8hHXjQQdWWri1ZuCANHTY8h6OooEQl5earrqi2bq25KvPoA/dUvQC7RnCBFhHnp8RJtnFeSQwVDRs5qtqyJdBEleXxR36Zh4WOGHtUtWWLtiGHNP416JXaV76dz4nZGfX5MBGC4jGfnPFwDkxRcdmeX907NYecuuICsDsEF2gREU5iaCYqHjFUFENGXzj/ompr6qiyREUlKiTNDh48JAebqMoMGtwIMZ2I81WuvezLuWoy+UtnplMnnJvPo4mKToi+aT/ZElxWrViRBg0ZktfjHJfYJyotcd835/9bfn7r163L2wF2Vq/NDdU60A2Wr92UFrRvqFrsS6Pb+qahA3pXLaAVqLgAAMUQXACAYgguAEAxBBco3Pam4t92uv59JX5ZFI9Vz8dST+9f/8LJJHPA3ia4QAtonoo/lvMnXV5t2bd+/eC9HRPQNU/vX88nc8oZZ+U2wN7iV0XQzfb2r4oiMNz9gxvz7LQxDX+zqIbUk73FNP6XTL46X78o9m8bfEgaNuojaewnjk8zGvtEe97cl9Pnzv6r9M6a1enZxx/ruM+fli7OP2mOn0OHuB7S8JGjOiabO+GUzzX2WZJeb9w/QtSlV1+X7r/rv+afS8d+MfV/zCsTx4xLDPzN9X+f55r5+e03577jTvxsPs6/O/k/7NWw41dF0HpUXKAFNM+vUk/1H4EmJoiLSeHufGhm3u+5J7bcxv4Tv35Fnqa/d5++uW/Sd/7vPHncv/7umXT2hZfkCk7MphuhJQLRttP1xyR2sR7h5mvfuTZd0DhePb1/XAqg2bxXX8qXHYjnEuJ6SfFcYi6X6Iv7Lnrj9bwNoCuCC7SA5qGiCBgRNJY2QkFUOaKyERPOxay1MUV/iKpHPWlcaJ54bnuT0O3pdP3bPl6tfn71hSABdkRwgRYVQzRxXaKomETwiHNRtq2E7Kx9NV1/PXtuPMd4rgA7IrhAi4qp+D992ul5CCkuARDBY3fPH4nLBWxvuv4IQnGOSpyrMqC6MGOcC1NXdrpyYuO5RcUlLhPwwE/uSCO3U5EB2JaTc6GbmfJ/i+aTimNo6h+u+9t8Mq+Tc4GuqLgA+0Wc3BvntURFKKouUX2JKgxAV1RcoJupuHQfFRdoPSouAEAxBBcAoBiCCwBQDMEFACiG4AIAFENwAQCKIbgAAMUQXACAYgguAEAxBBcAoBim/IduFlP+L16zsWqxL40Y2MeU/9BiBBcAoBiGigCAYgguwA7NmjUrLwD7m+ACABRDcAEAiiG4AADFEFwAgGIILgBAMQQXAKAYggsAUAzBBQAohuACABRDcAEAiiG4AADFEFwAgGIILgBAMQQXAKAYggsAUIxemxuqdYCtPPDAA/l24cKF+XbUqFH59oILLsi3AN1NxQXo0rRp09IzzzyTl1gH2J8EF6BTX/ziF9OBBx5YtVJejz6A/UVwAToVQeWss86qWimvNwcZgO4muABdqqsuqi1ATyC4AF2qqy6qLUBP4FdF0M2Wr92UFq/ZWLXKsG7tO/m2/4CygsuIgX3S0AG9qxbQCgQX6GYRXBa0b6ha7Euj2/oKLtBiDBUBAMUQXACAYgguAEAxBBcAoBiCCwBQDMEFACiG4AIAFENwAQCKIbgAAMUQXACAYgguAEAxBBcAoBiCCxRo7pzZ6WsTTt5qeeqx6dXW7Vu/bm368S3X533v+9Ft6aYrL9vhfXZG83OJ469uX5lvH5x6Z7VHyn3148VS7xvPqfl57Y3nA7Q2wQUKNezQkenGu36Rfjrj6Xz7yL1Tc4jozPp169KyRQvT1bfckS78xrfSNbfelU4546xq6+6J0PHEjIfTpCuvSbff/2g+/ltvvJ6OHn9C+t0TM9OiN+fn/aKv/e3laczRx+Z2iH3jOf1p6eI07+U5VS9A1wQXaAEjDzsiffq009Oc55/J7bqqUVcxImBElWXeqy+lm6+6Ir3w7FMdFZAIO7FeVz1iPSokzZWQ735lYkcI2Z5XZj+f+vXvn8PQ2HHjOwLKvFde6gg38fzieYbjTvxsGtg2OAeaVStWpJGHH5n7AHZEcIEWceio0Wn5sqVpwby56cnpD+UqTFRBnmyEhvlzX81VljFHHZsrLmOOGVfda4sINKdNODfvH2Y3gs1zT8zM63c+NDN99dvXpqn/z0050DTr139APm5UTy4/7/SOgFMHqQg0b70xP1dUxp3wmepeKR008OD0oeEjctCKJdajD2BHBBdoEUsWLkhDhw1Pa//85zRv7svp2su+nCZ/6cwcSpY2gkVXItB8+PAjq9YWcbxnH38sB5Ko0sRQz6qVb1db33Nw2+BcaYnQ03bI0PTb38zI/RFUIrA89c/Tc/+2xz/+xM+m12bPykNKsQ6wMwQXaAFRCXntxd/nsDBoyJA0ZuwxHee/xLI757JEBeekz52RKy5xjO/9bFrHUE+tPuk2hptiqGjYyFHVlpSDSgSWxx/5ZTp1wrk54DQbNPiQ1N4IQrHPqCP+suoF6JrgAoVatmRRrqrEOShRWYlwEOeXRLg49azzOrbVv97ZVSeednq+jYpLfa7MtiKMTPzqN3NFJvaLIaMvnH9Rx7aPH/fJfBJx80m5tb8Y0eg/ZlwOOzHkBLAzem1uqNaBbrB87aa0oH1D1WJfGt3WNw0d0LtqAa1AxQUAKIbgAgAUQ3ABAIrhHBfoZnvzHJc4YXbqrTdVrS1iFts9nRF3T8RzGj5yVD5ReH9zjgu0HhUXKFzMwRJzqMRPliO0xIRz204U111i8rm49ADAviK4QIuKixzGz5hjqafxj/lWYnbbmyZfmn8mHbPsRrveL6ol9dwst1337dwX22c+/N869qmvhxT7Nt8vfnL9yH0/zz/Tjp9Hx37b7lPfLx4/jhvPsX68er/6+ADbI7hA4WJm3JjHJT70Y9go5lWJOVTOn3R5xwUYY9bbuC5QiGAx8etXpEuvui6NHjM2TywX+515wcV5iv56zpfDjvhonnwu5lpZsfz/dOwTU/RHZWV7lxU4+8JL8rwtcVmBmAhv233qUBITz02+4fv5OcblBUJdNeoJQ0xAzyW4QOGah4qaP/gjJESYiYnoIqzUmqf3b76Q4qMP3JP7ajFzbq15PcSFEXd0WYGu9okwFNcnCuNPOiXf1uGrrswAbI/gAi0oKiLTfnJHrnbEElWQ7fnVvVPz9Y3qasrO2pnLCuzspQfqax3F9jhHp7nqA7AtwQVaUFQzho36SK523D7lO6lt8CHbvdBiXNsoKi1R6Xhz/r/lKfs3rF9fbe1cZ5cViOsPxbWH4hyXqLjszKUH6spQLDHUFVepdgkAoDN+Dg3dzJT/3cfPoaH1qLgAAMUQXACAYgguAEAxBBcAoBiCCwBQDMEFACiG4AIAFENwAQCKIbgAAMUQXACAYgguAEAxBBcAoBgusgjdLC6yuHjNxqpVhj/86+x8+7FPjM+3pRgxsI+LLEKLEVyAHZo1a1a+/dSnPpVvAfYXQ0UAQDEEFwCgGIILAFAMwQUAKIbgAgAUQ3ABAIohuAAAxRBcAIBiCC4AQDEEFwCgGIILAFAMwQUAKIbgAgAUQ3ABAIohuAAAxRBcAIBiCC4AQDEEFwCgGIILAFAMwQUAKEavzQ3VOsBWbrjhhjRnzpyqtcW4cePSlClTqhZA91JxATp1zjnnVGvv2V4fQHcRXIBOHX/88bnCUov16APYXwQXoEvNFRbVFmB/E1yALtVVF9UWoCdwci6wQy+88EK+FVyA/U1wAQCKYagIACiGigt0s+VrN6XFazZWLfalEQP7pKEDelctoBUILtDNIrgsaN9QtdiXRrf1FVygxRgqAgCKIbgAAMUQXACAYgguAEAxBBcAoBiCCwBQDMEFACiG4AIAFENwAQCKIbgAAMUQXACAYgguAEAxBBcoxPp1a9OPb7k+fW3CyXmZO2d2Xr77lYlp0Zvzq71Seuqx6emmKy9LSxa+mW/rfUPcRjv6V7evzH2h7t92qe/Xlfp5PTj1zqrn/eKx4jHjuQHsCcEFCjF/7qtp2aKF6fb7H02TrrwmPTHj4fQXI0amtkOGpt/+ZkbeJ0LEK7OfTx8/7pNp4KC23BeWNu4X5jz/TL7d1thx49NPZzydbrzrF2nM2GPybbSjf0f69R+QLr3qunT+pMurnvc7uG1wuubWu9IpZ5xV9QDsHsEFCjLv1ZfSW2+8ngNAhIWhww7NIeW1F3+fqxoRbua9PCd99vMTqnukdOYFF+cwE9uXL1ua2zurrujcNPnSXFV5adZz76vINFdc6spKrDfv01xxiXas19Wj5upPbI++eMx77vhB3ieOD1ATXKAQUf2ISsvNV12RP9zroZkIKe1vL8+BJioqY44Zlz40fETeFoYM/Yu0bOEf06svzMq30d4Vy5YsShO/fkUOSsd+6sRcibnzoZnppM+d0WkFJ8R+EZKiMrRt+IgAdtqEc3P1KMx+9qk83PXIvVPT1bfckf7uH+9J76xZnbcBNBNcoCBRaYlAEAHmd0/MzB/2EVIirERAiMrL0eNPyMM3teEf/kgaNuoj6anfPJJvo70rxhx1bPrw4Ufm9bpycvl5p6dnH38s923PuBM+U61tX/Mxm7UNPiQNGjIkP/94HQDbElygEDGMUg+dDB85qurdco5JfMjXQWL8Safk21r/AQemocOGpznPPZv3i/buiMe970e3pVMnnNtRcdnb2le+nVatWJEfK4a3ALYluEAhTjzt9Hwb1Y4YLjr7oklp5GFH5L4xRx+bhh06Mp/vEifCbquugDQHnl1VB6Spt96Un8OaNe35nJn169ZVe+yZeC3xmuK1/Ze/vjgdOPDgagvAe3ptbqjWgW6wfO2mtKB9Q9WiFsNQ/3Dd3+aKTgyJxTk8EYwumXz1VkNfu2J0W980dEDvqgW0AsEFupng0rkYDouKTogK0uQbvt9RVdodggu0HsEFupng0n0EF2g9znEBAIqh4gLdrLsqLvHLnJ/ffvNWP1veG8MvJVFxgdaj4gItLiaBqyeNi/le6ssDAJRIcIEPoHoiuduu+3bHRRqbp+lvnmo/puiv++vZeuv7R9/2puxvPkYs9fT+scQ+ALtLcIEW9+gD9+TAEHOvxEUav3D+RdWWlA474qPpez+blid9i1l3Ywr+qMyE556YmQPJtLt/mKfhj22xTwSZXz94b54zJio58fPlmJhu+bIl6ckZD+dZfaM/LhEQP2Our59UX7jRhRaBPSG4QIurh4piiSs0N09QV09MF1ePHjZyVCNo9M9hI2baXbJwQVq18u2U3t2cp+Gvr/B8xNij8vwqdSCKny9HIIr7RYiJdvTXlZjYP4aorr3sy7m/rtoA7A7BBcgz6kZV5E9LF+ehnQgmh44anQYNPqTxr0Svjmn4Y8gnKjERbLYXiOprKdUXT4wLP0agiepL9Eflpr6SNcDuEFyAfOXpT592eq6KxJBSBJMIIRFGJn71m3ka/ugPcemBGG6KABIVlFhi+Kj5XJbJXzozV3Ci2hLnz8R5NNEfx4mqzPYuSwCwM/wcGrqZCei6j59DQ+tRcQEAiiG4AADFEFwAgGIILgBAMQQXAKAYggsAUAzBBQAohuACABRDcAEAiiG4AADFEFwAgGIILgBAMVxkEbpZXGRx8ZqNVasMf/jX2fn2Y58Yn29LMWJgHxdZhBYjuAA7NGvWrHz7qU99Kt8C7C+GigCAYgguAEAxBBcAoBiCCwBQDMEFACiG4AIAFENwAQCKIbgAAMUQXACAYgguAEAxBBcAoBiCCwBQDMEFACiG4AIAFENwAQCK0WtzQ7UOsJUbbrghzZkzp2ptMW7cuDRlypSqBdC9VFyATp1zzjnV2nu21wfQXQQXoFPHH398rrDUYj36APYXwQXoUnOFRbUF2N8EF6BLddVFtQXoCZycC+zQCy+8kG8FF2B/E1wAgGIYKgIAiqHiAt1s+dpNafGajVWLfWnEwD5p6IDeVQtoBYILdLMILgvaN1Qt9qXRbX0FF2gxhooAgGIILgBAMQQXAKAYggsAUAzBBQAohuACABRDcAEAiiG4AADFEFwAgGIILgBAMQQXAKAYggsAUAzBBVrQ6vaV6aYrL0tPPTa96klp0Zvz03e/MjHNnTO76tli/bq16ce3XJ++NuHkvMT94v4APZHgAi3o4LbB6ePHfTI9OePhjhAy75WXUtshQ9OHDz8yt2u/undqGjpsePrpjKfzEve770e35UAD0NMILtCixp3wmTTv1ZfSW2+8nsNLhJhTJ5ybQ00tqjCvzZ6VPvv5CVVPSudPujxdetV1eT0qMbdd9+1ciYlKTSx1ZSaqN3H/0NxfV2y2reQ0V38AdpfgAi3qiLFHpZM+d0aa8/wzOby0v708jTn62Grrzhs4sC3d+dDMXKmZdvcP09W33JErM2dfNCk9ct/Pc0h5ohGKzrzg4tx/za135XA0f+6rad7Lc9KNd/0i959yxlnVEQF2n+ACLapf/wHp6PEnpNde/H0OFmOOGZc+NHxEenDqnR2VkT+vXl3t3bk4Rhxr1cq3U3p3cxo0ZEjuHz5yVFq2aGFeP23CuenRB+7Jx60rMRGc4jGvvezLuT8eF2BPCS7QwqLCEpWWZx9/LIeLCCAxFFRXRg77y4+mYaM+kisn9TktETBiiGf9unW5XRs0+JDGvxi98rkyYWkjtAxrhJd+/funsePG52NGZSbCSuwTjxVDTtEfVZoIUE76BfaU4AItLCosESTGHHXs+07KDREuLpl8dV6//LzTc2UkAsaF3/hWDiTNYvhn4le/mabeelPeL86Z2bLfgI4qThwjqjDjTzql41dM0X/zVVe87/wagN3Ra3NDtQ50g+VrN6UF7RuqFvvS6La+aeiA3lULaAUqLgBAMQQXAKAYggsAUAzBBVpETALXPClciEnfOpvCv3n/zvaLfXZ0CYC4//T7/6ljwjk/ewb2JcEFWkT8aiim9P/tb2bkdgSJV2Y/n6fw39GveWJyuHriuF0RjxE/pV775zUdP3+On1sD7CuCC7SICB0RUur5UuqZa2M6//rnyrFsr4LSXHFpnr4/Zt2tNffHEu3nnpiZ54iJyece+Ml/3ari0vxz6Hr/uipzzx0/6NjmUgDArhBcoIVESIkJ52KK/wgd9Wy59aRzMf1+vX171qxqz9P6T7rymrx/s+ZJ5upLCZx42ul5Pab7P+8/X1rt+V4lJi4LUE9AF8dd3d6et7+zZnX6u3+8Jz9O84UgAXZEcIEWUk84F1P8R+Wlnq6/rpbE9PvLliyq9u5cTOcf4kKNtQgXUZWJSeaiytKVmHU3JqKrj5MvE/Du5sYxVuR2/bwAdpXgAi0kwkCEgjpY1DPYTvvJHbnaEsuwQ0fmbV2J6fxDPVQUQeS+H92WZ7+tKy5diVl343IA9f1XrWgElgN6pYPbtlznCGB3CS7QYuL6RBFO6pNyowoT1yOKasvtU76T2gYf0hFMtjVwUNtW0/rXIohEIIr+qLisWdOeli9bmrcNHTY8n+Py0P/749wOEaDOvvCS9LsnZubj3P2DG9Ok/+uaxvNpq/YA2D2m/IduZsr/7mPKf2g9Ki4AQDEEFwCgGIILAFAMwQUAKIbgAgAUQ3ABAIohuAAAxRBcAIBiCC4AQDEEFwCgGIILAFAMwQUAKIaLLEI3i4ssLl6zsWqxL40Y2MdFFqHFCC4AQDEMFQEAxRBcgB2aNWtWXgD2N8EFACiG4AIAFENwAQCKIbgAAMUQXACAYgguAEAxBBcAoBiCCwBQDMEFACiG4AIAFENwAQCKIbgAAMUQXACAYgguAEAxBBcAoBiCCwBQDMEFACiG4AIAFKPX5oZqHWArN9xwQ5ozZ07V2mLcuHFpypQpVQuge6m4AJ0655xzqrX3bK8PoLsILkCnjj/++FxhqcV69AHsL4IL0KXmCotqC7C/CS5Al+qqi2oL0BM4ORfYoRdeeCHfCi7A/ia4AADFMFQEABRDxQV6gOVrN6XFazZWLfalEQP7pKEDelctgvdf9/H+23OCC/QA8cGxoH1D1WJfGt3W1wfHNrz/uo/3354zVAQAFENwAQCKIbgAAMUQXACAYgguAEAxBBcAoBiCCwBQDMEFACiG4AIAFENwAQCKIbgAAMUQXACAYgguAEAxBBcAoBiCCwBQDMEFACiG4AIAFENwAQCKIbhAgebOmZ2+NuHk9y3RvyPr161NP77l+vTg1Durnt2zun1luunKy973mE89Nj0/l3iMeKz68aIvtu2s2Lc+xvbE9nj8eB7sX/V7Ydu/+Z6+x0Lz+6dedubvHtvj8Tt7/+yqvX08dp/gAgUaO258+umMp9ONd/0ijRl7TL6NdvTvSL/+A9KlV12Xzp90edWzbyxbtLDxj/y69Keli9O8l+dUvbSyZx9/LD33xMyqtXedecHF+T0ey8eP+2S670e3dRkifv3gvWn5sqVVa8/t7eOx+wQXaCFR/fjuVyammyZfmr+lvjTrua2+qcb25m/D9TflWG/eJ9SVk1jqSkm9f/TFB0dnjjvxs2lg2+D01huvp1UrVqSRhx+Z+2rNj1d/Sw/1Y8ZrmP+HV3Nf2N5zoWd6csbD76uGxHuq/vvVVYv4u8ffsl6v3wfR1/ye2J7Pfn5CWrbwjzkUNx87lmjH8ugD9+Qg9fPbb97u/weh+X1VP2bze7yu7Gx7vK6eG/ue4AItZtmSRWni16/IVZVjP3Vi/oZ650Mz00mfOyPNef6Zaq/3i/3iW+0TjQ+eBfPmpienP5QrObff/2j+MIp/vONb57CRo/LxTptwbpr36kvVvbd20MCD04eGj8iPF0usR1+I47z24u/zceM4Ib6lL3pzfnrk3qnp6lvuSH/3j/ekd9asztsW/3HBdp8LPc9ffeWv8218yNfig3/a3T/Mf9f4e0fVIv7eR48/Ib0y+/lGuJ2fK3KxxHr0xbaoDHZm0OBDGp9evXIorquPze/x6Iv3crQvmXz1dv8/iOcV76VJV16Tt8X/L/GY8R6Pik70ndp4j0dAP2LsUVsdr6vnxr4nuECLGXPUsenDhx+Z1+tvj5efd3r+ttiZcSd8plrbYtXKFWne3JfTtZd9OU3+0pk5oCxdtDBvGzpseP6HOx4jHqszx5/42fTa7Fnpd40PqVivxXEi/PTr3z8fJ463ZOGCvK2t8YE0aMiQ3B8fXqGr50LPMviQD6WJX/1mevyRX3a831atfDu1v7083XzVFR3vw/h7jzn62Fw1mffKnFyRi+Wpf56e+2JbV+KY6d3N+b2yM+/x7e1zcNvgHEym3npTR3UlQlUsEbyiL7bVQ570HIILtKgoZ8e3xfjHuf6mubMGDR6y1bkzsZxyxll5W/zDHseOYaDOKi4hvhW3Nz5g2g4ZmkYd8ZdVb0rDG6Elvl1HmT+OE8c7dNTovC32j2/R0R/fvENXz4WeJ6oTze+1eB/EeyAqLvXfL86viircsFEfSfc23qP/7uT/kJcIPNEX27oy75WX8n5x7B29xyN0dLZPvI/i+UQlL/yfxW/lIN18Ps01t96VQw49h+ACLaquWsS3xvimuWZNexU6dvztccRHRqdTzzovVzmax/+/cP5F+RtoHC+GlLqquPzFiJFpzDHjqurKe6X1KON/+rTT87HjOPFBER8gIw87Ip190aT8zfy//PXF6cBqaKmz50LPFH/rsy+8JA07dGRux4d+VGHi79p83khzVS3CbFRZ4j6dDRPVVZBYYojnwm98Kx97++/xtTkMR3UlQsvYTxz/vn3iOcR7KY4Xlbx4n0boivd4DGXWj1UPS9bHc47L/tdrc0O1Duwny9duSgvaN1Qt9qXRbX3T0AG9qxbB+6/7eP/tORUXAKAYggsAUAzBBQAohuACABRDcAEAiiG4AADFEFwAgGIILgBAMQQXAKAYggsAUAzBBQAohuACABRDcAEAiiG4AADFEFwAgGIILgBAMQQXAKAYvTY3VOvAfrJ87aa0eM3GqsW+NGJgnzR0QO+qRfD+6z7ef3tOcAEAimGoCAAohuAC7DWzZs3KC+xr3msfXIILAFAMwQUAKIbgAgAUQ3ABAIohuAAAxRBcAIBiCC4AQDEEFwCgGIILAFAMwQUAKIbgAgAUQ3ABAIohuAAAxRBcAIBiCC4AQDEEFwCgGIILAFAMwQUAKEavzQ3VOsBuueGGG9KcOXOq1hbjxo1LU6ZMqVqwd3ivoeIC7LFzzjmnWnvP9vpgT3mvIbgAe+z444/P33prsR59sLd5ryG4AHtF87de34DZl7zXPtgEF2CvqL8J+wbMvua99sHm5Fxgr3nhhRfyrQ8T9jXvtQ8uwQUAKIahIgCgGCou0EMtX7spLV6zsWoBrWrEwD5p6IDeVYsdEVygh4rgsqB9Q9UCWtXotr6Cyy4wVAQAFENwAQCKIbgAAMUQXACAYgguAEAxBBcAoBiCCwBQDMEFACiG4AIAFENwAQCKIbgAAMUQXACAYgguAEAxBBcAoBiCCwBQDMEFACiG4AIAFENwAQCKIbgAPdrcObPT1yacnJcf33J9Wr9ubXrqsenppisvS6vbV1Z7pfTg1Dvz9pdmPZf3bd4e26Ivbps1H7tett1nf4nnHs+ls9e7q+I48d+n+bV+9ysT06I351d7QBkEF6DHig/bJ2Y8nCZdeU26/f5H07JFC9P8ua+mMUcfm9rfXp5mP/tU3i8+0F978ffp6PEnpL59++W+2L5q5dsd2zoz7NCR6ca7fpF+OuPpvJw/6fJqy/716wfvTcuXLc3rp5xxVrrm1rvSwW2Dc3tPnHnBxfl13vnQzDTmmHHpt7+ZUW2BMgguQI/3yuznU7/+/fOH99hx49OHho/IH7rRH+GmDjDjTzol34456ti8fd4rL+XwMrDxgX/S587I23ZWczWmrkxECIrKx23XfbujL6oh9X6xHpqrG/V+21Y86upRfcy6Px43lkcfuCc9+/hj6ee335yeePShvE8EmbjfPXf8IB839q8fs/n5RqVmVyo023tddZUqlvq5hm0fJzS/hubHbf5v09XrhV0huAA9Vr/+A9KF3/hWrrRcft7pHR+q0X/ahHPTvJfnpLfemJ8DzMeP++RWFYkPH35k7n951u/SQQMPTgc2lu1ZtmRRuvayL+cP0fr48eE67e4fpqtvuSNXJ86+aFJ65L6fd3x4H3bER9P3fjYtrz85/aFcsYmK0JMzHs4fxM89MTNvi6pGfd9w6VXX5ePFceO5/2np4o7QFfePbRHMYonKSIStSyZfnXr36Zv3qb2zZnX6u3+8J1ei4jGXLHwzP99oxzG6EoEoXmv894z/rl84/6Jqy3uva9WKFblKFc8pXkOI19T83yW2xT7xeqM6FP/947FPbfxd7vvRbY2QtSQ/t/o5xWuPv9v2Xi/sCsEF6NEijESlJT7o2g4Z2jG0EcEk2k/98/QcAsad8JncX/vYMcelZQv/mP7lfz6Wh5AOPOigasvWmoeK4kN75GFH5CpNendzGjRkSN5n+MhR+UN+w/r1uV0/VnzAz5v7cg4+k790Zpr36ktpaWO/JQsXpKHDhucP6hjmqT+06wrEzVddke8f6ipR3D+21RWUrsTrieNtK55n2Pa/RbN6qCiWbYef6vvFaxjWOFZUueJx4rXEa2r+71L/XY4Ye1SuBNWBaOqtN+X/VnG/CDHRjv66ErM7rxeaCS5Aj1UPK8S3+vgQjQ/TWnxwxrf8xx/5ZR4Wig/QZm1DDmn8C9crtTc+bOOcmF0xaPCW+8ZQU6g/yPv223L+TC0+wMeMPWarc2QiqBw6anT+MI8KTTz3eA0v/MvTuQIRASwqFrU6AMR9ozpRD3/tjnieYc7zz+Tb3RUBqK4IxXOJ1xKvqf7vEoEt+mP4JyoxEWy2F4jiv0W04zWHt954fa++Xj6YBBegx4oPuYlf/WauUGxvaKOuEGyvAnHw4CE52ERVJn/g7oL6cetqQQSOGLLa9jGiOnPqWed1DDXV53GceNrpeXs853jucawxR38i90WlYdpPtgSXCAARbOK+scTjxRBYPE4Ehfocl00bN+T9OzNwUNtWz3dPxfDNpxuvIV5XvIYIJhFCtv17hHit8TeJYaP6dcRrqoNNtOM1R/CLcNnZ64Wd1WtzQ7UO9CDL125KC9q7/sCCECEhAk4EjPhVVAy/RNj6m+v/PocNerbRbX3T0AG9qxY7IrhADyW4sCuiktF87kwMRznxtQyCy64RXKCHElzgg0Fw2TXOcQEAiiG4AADFEFwAgGIILgBAMQQXAKAYggsAUAzBBQAohuACABRDcAEAiiG4AADFEFwAgGIILgBAMQQXAKAYggsAUAzBBQAoRq/NDdU60IMsX7spLV6zsWoBrWrEwD5p6IDeVYsdEVwAgGIYKgIAiiG4APQQs2bNygvQOcEFACiG4AIAFENwAQCKIbgAAMUQXACAYgguAEAxBBcAoBiCCwBQDMEFACiG4AIAFENwAQCKIbgAAMUQXACAYgguAEAxBBcAoBiCCwBQDMEFACiG4AIAFENwAQCKIbgAAMUQXACAYgguAEAxBBcAoBi9NjdU6wDsBzfccEOaM2dO1dpi3LhxacqUKVULqKm4AOxn55xzTrX2nu31AYILwH53/PHH5wpLLdajD3g/wQWgB2iusKi2QOcEF4AeoK66qLZA15ycC9BDvPDCC/lWcIHOCS4AQDEMFQEAxVBxAVrainXvpkWrN6QDelUd7JRN76Z0+OC+aWBf32/pWQQXoKW92b4x/WntxqrFzhrQ54B0ZCO49O8t8dGziNJAy3q38bXszxs3VS12ReQVoYWeSHABWta6TZvTxnerBrugVzqoj9BCzyS4AC1rzfpNaUOUXdglUWhp69+7akHPIrgALWv1BqFld/RtZBbDRPRUggvQkja+uzmti5/GsMv6HnBA6ie40EMJLkBLivNbNsgtu2VgX6GFnktwAVrSqvXv5qoLu6bPAb3SoH4+Gui5vDuBlrTG+S27Jeabc34LPZngArSc9XmYyDjR7ujf+4BcdYGeSnABWk4+v8W8c7vlYOe30MMJLkDLaV+3KTWyC7uo7wG90sB+5m+hZxNcgJbz542RWiSXXdXH+S0UwEUWgZayduO7aX77xny7r8ydMzvdfNUVVWuLMy+4OI074TPp7h/cmCbf8P008rAjqi07tn7d2vTz229OQ4cNT+dPurzq7WaNj4IPHdg3HdbWp+qAnknFBWgpazdtCS/72rBDR6Yb7/pF+umMp/MSgWPsuPHpez+btkuhpcfo1SsN6u8jgZ7PuxRoKavW7b9fE0Ul5rtfmZgWvTk/PfXY9HT7dX+bl69NODn9+Jbrc2UltsU+0RdL7NcTDOhzQBrg9BYKILgALSPmm/vzxu75OdGyJYvStZd9OYePOqxsa9Ebr6cLvn5FrszMe3lOmj/31VyNiapMVGlieOmV2c83As266h77T5zaEuEFejrvUqBlxM+gu2GUKGseKupseGjMMePSh4aPqFpbRNUlqi8ReB594J6qd3/rlQ7q46RcyiC4AC1jzfpNaUMPn+b/V/dOzSfh1hWXniCqLW39jRNRBsEFaBmrC5jmP355FJWWqLi8Of/f0rJFC/f7UFHfRmbxM2hK4efQQEuICyrOW7E+vZPncGFXDOrXO40Z0rdqQc+m4gK0hDzNv8sT7ZaBpvmnIIIL0BJWrX83V13YNXFBxUH9fBRQDu9WoCWsKeD8lp6ob+NTwPktlMQ5LkDx1m/anP6/levT2r10fsvq9pXpH6772zTv1ZeqnpTGHHVs+pvr/z4d3Da46tk/4rn9+sF70xcvmpT69R9Q9e6+If17pyMGO7+Fcqi4AMXL57fsg3nnJl15TceU/tfcetd+Dy0hQsvyZUur1p472PktFEZwAYrXvm5TamSXbhHT+tfT9dcz5kYV5KYrL0u3Xfftrab8r/erp/VvnnyuebbdB6fe2bFvHCeO17xvfYx47Pgp9bOPP5Yvyhj77Im+B/RKA/uZv4WyCC5A8f6ch4j2fnKZeutNWwWHCBTT7v5huvqWO3IV5uyLJqVH7vt5R4A47IiP5ll0w5PTH8oz695+/6PpyRkP59Dx3BMz87Y7H5q51X3jAo1xvNi//e3l6a03Xs+XB4jLBNSz855yxln5Io4xad1JnzsjXTL56j0eKooZ/p3fQmkEF6BocSXofVVtaR4qiuCwauXb+YJIg4YMyduHjxyVJ5DbsH59bsfkcmHVihVp3tyX87WMJn/pzHyuzNLGfksWLsiz5kbgiONdetV1eb2u4sT+cQ2kcMTYo/IlA+rrIUVVZm87qE/vdIDcQmEEF6BoazdtCS/dYdDgQxr/avZK817ZctJuhJFhjfDSt1+/3K5FsBkz9piOakkdfA4dNTqfnxJVlggrMSw075V/TdN+ckfeN5a4BlKIQBPBJu4bFZ7XXvx9rvjsTYP6+wigPN61QNFWrWuElm76cWScnDvxq9/sGEKKIaALv/Gt9w3ZxAUXTz3rvI5qSZyrEmHlxNNOz9svP+/0dPNVV+RjHfaXH03DRn0k73v7lO+ktkY4ikAU57/EeTBx/9j31Ann5seP8LM3znGJK0EPcHoLBfJzaKBYMd/cH95eZ5r/3TCw7wHpY4dsXSmCEqi4AMWKn0F30yhRi+mVDurj5BbKJLgAxVqzflPaYJr/XRY/JGrrb5yIMgkuQLFWm+Z/t/RtZBY/g6ZUggtQpLig4rpNxol2R98DDkj9BBcKJbgARcrT/Mstu2Wgaf4pmOACFGnV+ndz1YVd0+eAXmlQP//0Uy7vXqBIa5zfslv6Nv7Vd34LJRNcgOKsz8NExol2R//eB+SqC5RKcAGKk89v2VQ12CUHO7+FwgkuQHHa123aZxdWbGV9D+iVBvYzfwtlE1yA4vw5T/EvueyqPs5voQUILkBRYphItWX3HNSnd1zcGormIotAUdZseDe9sXJD6u1r1y6JU5lHDuybhvT3H46yCS4AQDFEbwCgGIILAFAMwQUAKIbgAgAUQ3ABAIohuAAAxRBcAIBiCC4AQDEEFwCgGIILAFAMwQUAKIbgAgAUIqX/H6RExOzQAQX+AAAAAElFTkSuQmCC)\n"
   ]
  },
  {
   "cell_type": "code",
   "execution_count": 1,
   "id": "4130dd8f",
   "metadata": {
    "id": "4130dd8f"
   },
   "outputs": [],
   "source": [
    "from sklearn import datasets\n",
    "from sklearn import svm\n",
    "from sklearn.model_selection import train_test_split\n",
    "from sklearn.preprocessing import StandardScaler\n",
    "from sklearn.metrics import accuracy_score"
   ]
  },
  {
   "cell_type": "code",
   "execution_count": 2,
   "id": "f0592oKgURrZ",
   "metadata": {
    "colab": {
     "base_uri": "https://localhost:8080/"
    },
    "id": "f0592oKgURrZ",
    "outputId": "fc82dc79-4aef-439b-be3f-4701be7fe2b0"
   },
   "outputs": [
    {
     "name": "stdout",
     "output_type": "stream",
     "text": [
      "[[5.1 3.5 1.4 0.2]\n",
      " [4.9 3.  1.4 0.2]\n",
      " [4.7 3.2 1.3 0.2]\n",
      " [4.6 3.1 1.5 0.2]\n",
      " [5.  3.6 1.4 0.2]\n",
      " [5.4 3.9 1.7 0.4]\n",
      " [4.6 3.4 1.4 0.3]\n",
      " [5.  3.4 1.5 0.2]\n",
      " [4.4 2.9 1.4 0.2]\n",
      " [4.9 3.1 1.5 0.1]\n",
      " [5.4 3.7 1.5 0.2]\n",
      " [4.8 3.4 1.6 0.2]\n",
      " [4.8 3.  1.4 0.1]\n",
      " [4.3 3.  1.1 0.1]\n",
      " [5.8 4.  1.2 0.2]\n",
      " [5.7 4.4 1.5 0.4]\n",
      " [5.4 3.9 1.3 0.4]\n",
      " [5.1 3.5 1.4 0.3]\n",
      " [5.7 3.8 1.7 0.3]\n",
      " [5.1 3.8 1.5 0.3]\n",
      " [5.4 3.4 1.7 0.2]\n",
      " [5.1 3.7 1.5 0.4]\n",
      " [4.6 3.6 1.  0.2]\n",
      " [5.1 3.3 1.7 0.5]\n",
      " [4.8 3.4 1.9 0.2]\n",
      " [5.  3.  1.6 0.2]\n",
      " [5.  3.4 1.6 0.4]\n",
      " [5.2 3.5 1.5 0.2]\n",
      " [5.2 3.4 1.4 0.2]\n",
      " [4.7 3.2 1.6 0.2]\n",
      " [4.8 3.1 1.6 0.2]\n",
      " [5.4 3.4 1.5 0.4]\n",
      " [5.2 4.1 1.5 0.1]\n",
      " [5.5 4.2 1.4 0.2]\n",
      " [4.9 3.1 1.5 0.2]\n",
      " [5.  3.2 1.2 0.2]\n",
      " [5.5 3.5 1.3 0.2]\n",
      " [4.9 3.6 1.4 0.1]\n",
      " [4.4 3.  1.3 0.2]\n",
      " [5.1 3.4 1.5 0.2]\n",
      " [5.  3.5 1.3 0.3]\n",
      " [4.5 2.3 1.3 0.3]\n",
      " [4.4 3.2 1.3 0.2]\n",
      " [5.  3.5 1.6 0.6]\n",
      " [5.1 3.8 1.9 0.4]\n",
      " [4.8 3.  1.4 0.3]\n",
      " [5.1 3.8 1.6 0.2]\n",
      " [4.6 3.2 1.4 0.2]\n",
      " [5.3 3.7 1.5 0.2]\n",
      " [5.  3.3 1.4 0.2]\n",
      " [7.  3.2 4.7 1.4]\n",
      " [6.4 3.2 4.5 1.5]\n",
      " [6.9 3.1 4.9 1.5]\n",
      " [5.5 2.3 4.  1.3]\n",
      " [6.5 2.8 4.6 1.5]\n",
      " [5.7 2.8 4.5 1.3]\n",
      " [6.3 3.3 4.7 1.6]\n",
      " [4.9 2.4 3.3 1. ]\n",
      " [6.6 2.9 4.6 1.3]\n",
      " [5.2 2.7 3.9 1.4]\n",
      " [5.  2.  3.5 1. ]\n",
      " [5.9 3.  4.2 1.5]\n",
      " [6.  2.2 4.  1. ]\n",
      " [6.1 2.9 4.7 1.4]\n",
      " [5.6 2.9 3.6 1.3]\n",
      " [6.7 3.1 4.4 1.4]\n",
      " [5.6 3.  4.5 1.5]\n",
      " [5.8 2.7 4.1 1. ]\n",
      " [6.2 2.2 4.5 1.5]\n",
      " [5.6 2.5 3.9 1.1]\n",
      " [5.9 3.2 4.8 1.8]\n",
      " [6.1 2.8 4.  1.3]\n",
      " [6.3 2.5 4.9 1.5]\n",
      " [6.1 2.8 4.7 1.2]\n",
      " [6.4 2.9 4.3 1.3]\n",
      " [6.6 3.  4.4 1.4]\n",
      " [6.8 2.8 4.8 1.4]\n",
      " [6.7 3.  5.  1.7]\n",
      " [6.  2.9 4.5 1.5]\n",
      " [5.7 2.6 3.5 1. ]\n",
      " [5.5 2.4 3.8 1.1]\n",
      " [5.5 2.4 3.7 1. ]\n",
      " [5.8 2.7 3.9 1.2]\n",
      " [6.  2.7 5.1 1.6]\n",
      " [5.4 3.  4.5 1.5]\n",
      " [6.  3.4 4.5 1.6]\n",
      " [6.7 3.1 4.7 1.5]\n",
      " [6.3 2.3 4.4 1.3]\n",
      " [5.6 3.  4.1 1.3]\n",
      " [5.5 2.5 4.  1.3]\n",
      " [5.5 2.6 4.4 1.2]\n",
      " [6.1 3.  4.6 1.4]\n",
      " [5.8 2.6 4.  1.2]\n",
      " [5.  2.3 3.3 1. ]\n",
      " [5.6 2.7 4.2 1.3]\n",
      " [5.7 3.  4.2 1.2]\n",
      " [5.7 2.9 4.2 1.3]\n",
      " [6.2 2.9 4.3 1.3]\n",
      " [5.1 2.5 3.  1.1]\n",
      " [5.7 2.8 4.1 1.3]\n",
      " [6.3 3.3 6.  2.5]\n",
      " [5.8 2.7 5.1 1.9]\n",
      " [7.1 3.  5.9 2.1]\n",
      " [6.3 2.9 5.6 1.8]\n",
      " [6.5 3.  5.8 2.2]\n",
      " [7.6 3.  6.6 2.1]\n",
      " [4.9 2.5 4.5 1.7]\n",
      " [7.3 2.9 6.3 1.8]\n",
      " [6.7 2.5 5.8 1.8]\n",
      " [7.2 3.6 6.1 2.5]\n",
      " [6.5 3.2 5.1 2. ]\n",
      " [6.4 2.7 5.3 1.9]\n",
      " [6.8 3.  5.5 2.1]\n",
      " [5.7 2.5 5.  2. ]\n",
      " [5.8 2.8 5.1 2.4]\n",
      " [6.4 3.2 5.3 2.3]\n",
      " [6.5 3.  5.5 1.8]\n",
      " [7.7 3.8 6.7 2.2]\n",
      " [7.7 2.6 6.9 2.3]\n",
      " [6.  2.2 5.  1.5]\n",
      " [6.9 3.2 5.7 2.3]\n",
      " [5.6 2.8 4.9 2. ]\n",
      " [7.7 2.8 6.7 2. ]\n",
      " [6.3 2.7 4.9 1.8]\n",
      " [6.7 3.3 5.7 2.1]\n",
      " [7.2 3.2 6.  1.8]\n",
      " [6.2 2.8 4.8 1.8]\n",
      " [6.1 3.  4.9 1.8]\n",
      " [6.4 2.8 5.6 2.1]\n",
      " [7.2 3.  5.8 1.6]\n",
      " [7.4 2.8 6.1 1.9]\n",
      " [7.9 3.8 6.4 2. ]\n",
      " [6.4 2.8 5.6 2.2]\n",
      " [6.3 2.8 5.1 1.5]\n",
      " [6.1 2.6 5.6 1.4]\n",
      " [7.7 3.  6.1 2.3]\n",
      " [6.3 3.4 5.6 2.4]\n",
      " [6.4 3.1 5.5 1.8]\n",
      " [6.  3.  4.8 1.8]\n",
      " [6.9 3.1 5.4 2.1]\n",
      " [6.7 3.1 5.6 2.4]\n",
      " [6.9 3.1 5.1 2.3]\n",
      " [5.8 2.7 5.1 1.9]\n",
      " [6.8 3.2 5.9 2.3]\n",
      " [6.7 3.3 5.7 2.5]\n",
      " [6.7 3.  5.2 2.3]\n",
      " [6.3 2.5 5.  1.9]\n",
      " [6.5 3.  5.2 2. ]\n",
      " [6.2 3.4 5.4 2.3]\n",
      " [5.9 3.  5.1 1.8]]\n"
     ]
    }
   ],
   "source": [
    "iris = datasets.load_iris()\n",
    "x = iris.data\n",
    "y = iris.target\n",
    "print(x)"
   ]
  },
  {
   "cell_type": "code",
   "execution_count": 3,
   "id": "XJPQKSfwURuM",
   "metadata": {
    "colab": {
     "base_uri": "https://localhost:8080/"
    },
    "id": "XJPQKSfwURuM",
    "outputId": "06cbbfa6-ff34-45ce-b554-b2795cdc5fc4"
   },
   "outputs": [
    {
     "name": "stdout",
     "output_type": "stream",
     "text": [
      "[0 0 0 0 0 0 0 0 0 0 0 0 0 0 0 0 0 0 0 0 0 0 0 0 0 0 0 0 0 0 0 0 0 0 0 0 0\n",
      " 0 0 0 0 0 0 0 0 0 0 0 0 0 1 1 1 1 1 1 1 1 1 1 1 1 1 1 1 1 1 1 1 1 1 1 1 1\n",
      " 1 1 1 1 1 1 1 1 1 1 1 1 1 1 1 1 1 1 1 1 1 1 1 1 1 1 2 2 2 2 2 2 2 2 2 2 2\n",
      " 2 2 2 2 2 2 2 2 2 2 2 2 2 2 2 2 2 2 2 2 2 2 2 2 2 2 2 2 2 2 2 2 2 2 2 2 2\n",
      " 2 2]\n"
     ]
    }
   ],
   "source": [
    "print(y)"
   ]
  },
  {
   "cell_type": "code",
   "execution_count": 4,
   "id": "1rpPFkbDURw4",
   "metadata": {
    "id": "1rpPFkbDURw4"
   },
   "outputs": [],
   "source": [
    "X_train, X_test, y_train, y_test = train_test_split(x,y,test_size = 0.5, random_state = 0)\n",
    "sc = StandardScaler()\n",
    "X_train = sc.fit_transform(X_train)\n",
    "X_test = sc.fit_transform(X_test)"
   ]
  },
  {
   "cell_type": "code",
   "execution_count": 5,
   "id": "1WX8oOezURzr",
   "metadata": {
    "id": "1WX8oOezURzr"
   },
   "outputs": [],
   "source": [
    "cls = svm.SVC()\n",
    "cls.fit(X_train, y_train)\n",
    "pred = cls.predict(X_test)"
   ]
  },
  {
   "cell_type": "code",
   "execution_count": 6,
   "id": "tnI7yMrzUR2s",
   "metadata": {
    "colab": {
     "base_uri": "https://localhost:8080/"
    },
    "id": "tnI7yMrzUR2s",
    "outputId": "699552dc-5053-4a0f-89ff-df748e8eaba0"
   },
   "outputs": [
    {
     "name": "stdout",
     "output_type": "stream",
     "text": [
      "original output [2 1 0 2 0 2 0 1 1 1 2 1 1 1 1 0 1 1 0 0 2 1 0 0 2 0 0 1 1 0 2 1 0 2 2 1 0\n",
      " 1 1 1 2 0 2 0 0 1 2 2 2 2 1 2 1 1 2 2 2 2 1 2 1 0 2 1 1 1 1 2 0 0 2 1 0 0\n",
      " 1]\n"
     ]
    }
   ],
   "source": [
    "print('original output',y_test)"
   ]
  },
  {
   "cell_type": "code",
   "execution_count": 7,
   "id": "OF9aDSSGUR56",
   "metadata": {
    "colab": {
     "base_uri": "https://localhost:8080/"
    },
    "id": "OF9aDSSGUR56",
    "outputId": "2aba95f8-abc2-4aa0-8e06-3e492878e9e5"
   },
   "outputs": [
    {
     "name": "stdout",
     "output_type": "stream",
     "text": [
      "predicted output [2 1 0 2 0 2 0 1 1 1 1 1 1 1 1 0 1 1 0 0 2 1 0 0 2 0 0 1 1 0 2 1 0 2 2 1 0\n",
      " 1 1 1 2 0 2 0 0 1 2 2 1 2 1 2 1 1 2 1 1 2 1 2 1 0 2 1 1 1 1 2 0 0 2 1 0 0\n",
      " 2]\n"
     ]
    }
   ],
   "source": [
    "print('predicted output',pred)"
   ]
  },
  {
   "cell_type": "code",
   "execution_count": 8,
   "id": "Tt_5vmsWUR8x",
   "metadata": {
    "colab": {
     "base_uri": "https://localhost:8080/"
    },
    "id": "Tt_5vmsWUR8x",
    "outputId": "50e73f1d-f536-4ad4-8b86-fa32239aa19c"
   },
   "outputs": [
    {
     "name": "stdout",
     "output_type": "stream",
     "text": [
      "percentage accuracy 93.33333333333333\n"
     ]
    }
   ],
   "source": [
    "print('percentage accuracy',100*accuracy_score(y_test, pred))"
   ]
  }
 ],
 "metadata": {
  "colab": {
   "provenance": []
  },
  "kernelspec": {
   "display_name": "Python 3 (ipykernel)",
   "language": "python",
   "name": "python3"
  },
  "language_info": {
   "codemirror_mode": {
    "name": "ipython",
    "version": 3
   },
   "file_extension": ".py",
   "mimetype": "text/x-python",
   "name": "python",
   "nbconvert_exporter": "python",
   "pygments_lexer": "ipython3",
   "version": "3.8.13"
  }
 },
 "nbformat": 4,
 "nbformat_minor": 5
}
